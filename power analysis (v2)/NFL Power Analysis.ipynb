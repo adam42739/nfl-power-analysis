{
 "cells": [
  {
   "cell_type": "code",
   "execution_count": 1,
   "metadata": {},
   "outputs": [],
   "source": [
    "import nfl_data_py"
   ]
  },
  {
   "cell_type": "code",
   "execution_count": null,
   "metadata": {},
   "outputs": [],
   "source": []
  },
  {
   "cell_type": "markdown",
   "metadata": {},
   "source": [
    "$$\n",
    "y_1=f(X_1) \\\\\n",
    "y_2=f(X_2) \\\\\n",
    "\\min{\\sum[(y_1-y_2)-(f(X_1)-f(X_2))]^2} \\\\\n",
    "\\min{\\sum(\\Delta P-(E[P_1]-E[P_2]))^2} \\\\\n",
    "P_1=10,\\quad P_2=20 \\quad\\Rightarrow\\quad 10-(E[P_1]-E[P_2]) \\\\\n",
    "S_H-S_A+HA=f(X_H)-f(X_A) \\\\\n",
    "S_H-S_A+HA=f(X_H-X_A)\n",
    "$$"
   ]
  }
 ],
 "metadata": {
  "kernelspec": {
   "display_name": "env",
   "language": "python",
   "name": "python3"
  },
  "language_info": {
   "codemirror_mode": {
    "name": "ipython",
    "version": 3
   },
   "file_extension": ".py",
   "mimetype": "text/x-python",
   "name": "python",
   "nbconvert_exporter": "python",
   "pygments_lexer": "ipython3",
   "version": "3.12.3"
  }
 },
 "nbformat": 4,
 "nbformat_minor": 2
}
